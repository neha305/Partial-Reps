{
 "cells": [
  {
   "cell_type": "code",
   "execution_count": null,
   "metadata": {
    "id": "i6z2aS3xXpxA"
   },
   "outputs": [],
   "source": [
    "import ast"
   ]
  },
  {
   "cell_type": "code",
   "execution_count": null,
   "metadata": {
    "id": "pZtyXgAWYBL-"
   },
   "outputs": [],
   "source": [
    "import matplotlib.pyplot as plt"
   ]
  },
  {
   "cell_type": "code",
   "execution_count": null,
   "metadata": {
    "id": "Adwhv4JFZDgv"
   },
   "outputs": [],
   "source": [
    "import numpy as np"
   ]
  },
  {
   "cell_type": "code",
   "execution_count": null,
   "metadata": {
    "id": "PYpE3dgOYDWm"
   },
   "outputs": [],
   "source": [
    "with open (\"/content/harmful_stats\", \"r\") as hfile:\n",
    "    harmful = hfile.readlines()"
   ]
  },
  {
   "cell_type": "code",
   "execution_count": null,
   "metadata": {
    "id": "yYanrQnuYJuu"
   },
   "outputs": [],
   "source": [
    "harmful = harmful[1:]"
   ]
  },
  {
   "cell_type": "code",
   "execution_count": null,
   "metadata": {
    "id": "c32CW8POYNe3"
   },
   "outputs": [],
   "source": [
    "with open (\"/content/benign_stats\", \"r\") as bfile:\n",
    "    benign = bfile.readlines()"
   ]
  },
  {
   "cell_type": "code",
   "execution_count": null,
   "metadata": {
    "id": "8qSE5V9qYRRv"
   },
   "outputs": [],
   "source": [
    "benign = benign[1:]"
   ]
  },
  {
   "cell_type": "code",
   "execution_count": null,
   "metadata": {
    "id": "khLfY_hjYS31"
   },
   "outputs": [],
   "source": [
    "harmful = [ast.literal_eval(s) for s in harmful]\n",
    "benign = [ast.literal_eval(s) for s in benign]"
   ]
  },
  {
   "cell_type": "code",
   "execution_count": null,
   "metadata": {
    "id": "Gs39a3IbYZOI"
   },
   "outputs": [],
   "source": [
    "htimes = [s[1] for s in harmful]\n",
    "hacc = [s[0][2] for s in harmful]\n",
    "btimes = [s[1] for s in benign]\n",
    "bacc = [s[0][2] for s in benign]"
   ]
  },
  {
   "cell_type": "code",
   "execution_count": null,
   "metadata": {
    "colab": {
     "base_uri": "https://localhost:8080/"
    },
    "id": "WIs2A6ErYjsw",
    "outputId": "9b3a2761-4284-4082-c664-1e64d8558130"
   },
   "outputs": [],
   "source": [
    "print(\"Harmful avg time: \" + str(sum(htimes)/len(htimes)))\n",
    "print(\"Benign avg time: \"+ str(sum(btimes)/len(btimes)))"
   ]
  },
  {
   "cell_type": "code",
   "execution_count": null,
   "metadata": {
    "colab": {
     "base_uri": "https://localhost:8080/"
    },
    "id": "3NZ0nBXAYq0E",
    "outputId": "32560651-c507-437c-da79-97e11799a893"
   },
   "outputs": [],
   "source": [
    "threshold = 0.97\n",
    "fp = len([s for s in bacc if s < threshold])\n",
    "fn = len([s for s in hacc if s > threshold])\n",
    "tp = len(harmful) - fn\n",
    "tn = len(benign) - fp\n",
    "tpr = tp*100/float(len(harmful))\n",
    "fpr = fp*100/float(len(benign))\n",
    "print(\"TPR: \" + str(tpr))\n",
    "print(\"FPR: \" + str(fpr))"
   ]
  },
  {
   "cell_type": "code",
   "execution_count": null,
   "metadata": {
    "id": "s663jw5xY9nT"
   },
   "outputs": [],
   "source": [
    "def get_tpr_fpr(negative,positive, threshold):\n",
    "    TP = sum(positive < threshold)\n",
    "    FN = sum(positive >= threshold)\n",
    "    FP = sum(negative < threshold)\n",
    "    TN = sum(negative >= threshold)\n",
    "\n",
    "\n",
    "    TPR = TP / (TP + FN)\n",
    "    FPR = FP / (FP + TN)\n",
    "    return TPR, FPR\n",
    "\n",
    "def plot_ROC_bleu(benign, harmful, label = 'PARDEN'):\n",
    "    from sklearn.metrics import auc\n",
    "    points = [(get_tpr_fpr(benign, harmful, threshold)) for threshold in np.arange(-0.01, 1.01, 0.001)]\n",
    "    points = sorted(points, key = lambda x:( x[1], x[0]))\n",
    "\n",
    "    TPRs = [ point[0] for point in points]\n",
    "\n",
    "    FPRs = [ point[1] for point in points]\n",
    "\n",
    "    AUC_score = auc(np.array(FPRs), np.array(TPRs))\n",
    "\n",
    "    plt.plot(FPRs,TPRs, label = label)\n",
    "\n",
    "    # get the FPR at TPR = 0.90\n",
    "    FPR_at_90_TPR = FPRs[np.argmax(np.array(TPRs) >= 0.90)]\n",
    "    print(f'FPR at 90% TPR: {FPR_at_90_TPR}')\n",
    "\n",
    "    return AUC_score, TPRs, FPRs"
   ]
  },
  {
   "cell_type": "code",
   "execution_count": null,
   "metadata": {
    "colab": {
     "base_uri": "https://localhost:8080/",
     "height": 465
    },
    "id": "DDJ6n_RnZAOz",
    "outputId": "165c75c3-3d90-4b12-b333-48ff27b34ea2"
   },
   "outputs": [],
   "source": [
    "AUC_score, TPRs, FPRs = plot_ROC_bleu(bacc, hacc)\n",
    "print(AUC_score)"
   ]
  },
  {
   "cell_type": "code",
   "execution_count": null,
   "metadata": {
    "colab": {
     "base_uri": "https://localhost:8080/",
     "height": 453
    },
    "id": "0IXYr3tHZG8r",
    "outputId": "17f05631-6bde-4da3-a412-ad2ada44fe6b"
   },
   "outputs": [],
   "source": [
    "plt.hist(hacc, bins=45, alpha=0.5, label='Cosine Similarity(harmful, repeat(harmful))', color='blue', density=False)\n",
    "plt.hist(bacc, bins=45, alpha=0.5, label='Cosine Similarity(benign, repeat(benign))', color='red', density=False)\n",
    "plt.legend(loc='upper left', fontsize = 12.5)\n",
    "plt.xlabel('Cosine Similarity',fontsize=12)\n",
    "plt.ylabel('Frequency',fontsize=12)\n",
    "# plt.title('Distribution of Two Arrays')\n",
    "plt.show()"
   ]
  }
 ],
 "metadata": {
  "colab": {
   "provenance": []
  },
  "kernelspec": {
   "display_name": "Python 3",
   "name": "python3"
  },
  "language_info": {
   "name": "python"
  }
 },
 "nbformat": 4,
 "nbformat_minor": 0
}
